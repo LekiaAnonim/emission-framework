{
 "cells": [
  {
   "cell_type": "code",
   "execution_count": 1,
   "id": "44ca0663",
   "metadata": {},
   "outputs": [],
   "source": [
    "# "
   ]
  },
  {
   "cell_type": "code",
   "execution_count": null,
   "id": "0df01b7e",
   "metadata": {},
   "outputs": [],
   "source": [
    "from collections.abc import Iterable\n",
    "from chemicals import *\n",
    "import pandas as pd\n",
    "import re\n",
    "compound = ['CO2', 'N2', 'CH4', 'C2H6', 'C3H8', 'C4H10']\n",
    "mole_fraction = [0.12, 0.021, 0.8, 0.042, 0.013, 0.004]\n",
    "weight_fraction = [0.12, 0.021, 0.8, 0.042, 0.013, 0.004]\n",
    "MOLAR_VOLUME = 379.3  #scf/lbmole"
   ]
  },
  {
   "cell_type": "code",
   "execution_count": 2,
   "id": "8f2b3325",
   "metadata": {},
   "outputs": [],
   "source": [
    "def convert_lbmole_CO2_to_lbCO2():\n",
    "    '''This function converts lbmole CO2/time to lb CO2/time\n",
    "    \n",
    "    where:\n",
    "        1 lbmole CO2 = 44lb CO2\n",
    "    '''\n",
    "    return 44"
   ]
  },
  {
   "cell_type": "code",
   "execution_count": 3,
   "id": "e241ec68",
   "metadata": {},
   "outputs": [],
   "source": [
    "def convert_lb_to_tonnes():\n",
    "    '''This function converts pounds to tonnes.\n",
    "    \n",
    "        where:\n",
    "        1 tonnes = 2204.62lb\n",
    "    '''\n",
    "    return 1/2204.62"
   ]
  },
  {
   "cell_type": "code",
   "execution_count": 4,
   "id": "1c769eb9",
   "metadata": {},
   "outputs": [],
   "source": [
    "def CO2_emissions_inlet_known_volume_mole_basis(HCin, CFhc):\n",
    "    '''\n",
    "    This function calculates the Carbon dioxide emission rate in tonnes when the flare inlet data is known.\n",
    "    \n",
    "    Definition of variables:\n",
    "    HCin = Flare hydrocarbon inlet rate (to the flare)\n",
    "    CFhc = Carbon weight fraction in the inlet hydrocarbon\n",
    "    FE = Flare combustion efficiency\n",
    "    Mco2 = Mass of CO2 in flared stream based on CO2 composition of the inlet stream.\n",
    "    \n",
    "    CALCULATION STEPS:\n",
    "    '''\n",
    "    CO2_mass_emission_rate = HCin*CFhc*FUEL_EFFICIENCY*convert_lbmole_CO2_to_lbCO2()*convert_lb_to_tonnes() + mass_co2\n",
    "    return CO2_mass_emission_rate"
   ]
  },
  {
   "cell_type": "code",
   "execution_count": 5,
   "id": "4332afb4",
   "metadata": {},
   "outputs": [],
   "source": [
    "\n",
    "def convert_scf_to_lbmole(volume_rate):\n",
    "    '''This function converts volumetric flowrate in scf/time to molar flowrate in lbmole/time\n",
    "    Molar volume of a gas at Standard temperature and pressure is given as:\n",
    "    1 lbmole gas = 379.3scf gas\n",
    "    \n",
    "    Arguments: volume_rate in scf/time  \n",
    "    '''\n",
    "    molar_flowrate = volume_rate*(1/MOLAR_VOLUME)\n",
    "    return molar_flowrate"
   ]
  },
  {
   "cell_type": "code",
   "execution_count": 6,
   "id": "c6ebeb9b",
   "metadata": {},
   "outputs": [],
   "source": [
    "def molecular_weight_of_mixture_molefraction(mole_fraction:Iterable[float], molecular_weight:Iterable[float]):\n",
    "    '''This function calculates molecular weight fraction of the gas mixture given:\n",
    "    mole fraction, and molecular weight\n",
    "    \n",
    "    '''\n",
    "    x = zip(mole_fraction, molecular_weight)\n",
    "    product_list = []\n",
    "    for a, b in x:\n",
    "        product_list.append(a*b)\n",
    "        \n",
    "    return sum(product_list)\n",
    "    \n",
    "def molecular_weight_of_mixture_weightfraction(weight_fraction:Iterable[float], molecular_weight:Iterable[float]):\n",
    "    '''This function calculates molecular weight fraction of the gas mixture given:\n",
    "    component weight fractions, and molecular weights.\n",
    "    \n",
    "    '''\n",
    "    x = zip(weight_fraction, molecular_weight)\n",
    "    product_list = []\n",
    "    for a, b in x:\n",
    "        product_list.append(a/b)\n",
    "        \n",
    "    return sum(product_list)"
   ]
  },
  {
   "cell_type": "code",
   "execution_count": null,
   "id": "8d203a87",
   "metadata": {},
   "outputs": [],
   "source": [
    "def molefraction_to_massfraction(mole_fraction:Iterable[float], molecular_weight:Iterable[float]):\n",
    "    '''This function converts mole fraction to weight or mass fraction.\n",
    "    Arguments: \n",
    "    1) mole fraction(Array)\n",
    "    2) Molecular weight of each gas component in lb/lbmole\n",
    "    \n",
    "    '''\n",
    "    x = zip(mole_fraction, molecular_weight)\n",
    "    product_list = []\n",
    "    for a, b in x:\n",
    "        product_list.append(a*b/molecular_weight_of_mixture_molefraction(mole_fraction, molecular_weight))\n",
    "    return product_list\n",
    "\n",
    "def massfraction_to_molefraction(weight_fraction:Iterable[float], molecular_weight:Iterable[float]):\n",
    "    '''This function converts mole fraction to weight or mass fraction.\n",
    "    Arguments: \n",
    "    1) weight fraction(Array)\n",
    "    2) Molecular weight of each gas component in lb/lbmole\n",
    "    \n",
    "    '''\n",
    "    x = zip(weight_fraction, molecular_weight)\n",
    "    product_list = []\n",
    "    for a, b in x:\n",
    "        product_list.append(a*molecular_weight_of_mixture_molefraction(mole_fraction, molecular_weight)/b)\n",
    "    return product_list"
   ]
  },
  {
   "cell_type": "code",
   "execution_count": null,
   "id": "4aa27fb0",
   "metadata": {},
   "outputs": [],
   "source": [
    "def get_molecular_weight_list(mixture):\n",
    "    '''This function returns the list of molecular weight for the components in a gas mixture.\n",
    "        The function Receives an array or list of the common name or molecular formular of the gas components as argument.\n",
    "    '''\n",
    "    # list of gas components.\n",
    "\n",
    "    list_of_components = []\n",
    "    list_of_molecular_weight = []\n",
    "    list_of_molecular_formula = []\n",
    "    for i in identifiers.pubchem_db:\n",
    "        for j in mixture:\n",
    "            if i.formula == j or i.common_name == j:\n",
    "                list_of_components.append(i.common_name)\n",
    "                list_of_molecular_weight.append(i.MW)\n",
    "                list_of_molecular_formula.append(i.formula)\n",
    "            else:\n",
    "                None\n",
    "\n",
    "    # Create a pandas dataframe from three lists of column names Compound, Formula, and Molecular weight.\n",
    "    data = {\n",
    "        'Compound': list_of_components,\n",
    "        'Formula': list_of_molecular_formula,\n",
    "        'Molecular Weight': list_of_molecular_weight\n",
    "    }\n",
    "    df = pd.DataFrame(data)\n",
    "\n",
    "    return df"
   ]
  },
  {
   "cell_type": "code",
   "execution_count": null,
   "id": "8356db73",
   "metadata": {},
   "outputs": [],
   "source": [
    "def adjusted_composition(compound, composition):\n",
    "    '''This function takes the mole fraction or weight fraction of the gas mixture as argument and returns a list of the adjusted mole fraction of weight fraction.'''\n",
    "\n",
    "    # combine two lists, compound and composition into a dictionary of key and value pair.\n",
    "    dictionary = dict(zip(compound, composition))\n",
    "    included_list = find_hydrocarbons_in_gas_mixture(compound)\n",
    "    for key, value in dictionary.items():\n",
    "        if key in [i.formula for i in included_list]:\n",
    "            dictionary[key] = value  # Set value to value if key is in include_list\n",
    "        else:\n",
    "            dictionary[key] = 0 # Set value to value if key is not in include_list\n",
    "\n",
    "    # find the sum of the new dictionary values when non-hydrocarbon components are set to zero\n",
    "    sum_composition = sum(dictionary.values())\n",
    "    for key, values in dictionary.items():\n",
    "        dictionary[key] = values/sum_composition\n",
    "    return dictionary"
   ]
  },
  {
   "cell_type": "code",
   "execution_count": null,
   "id": "a1c88ab2",
   "metadata": {},
   "outputs": [],
   "source": [
    "def carbon_ratio(compound):\n",
    "    matches = re.findall(r\"C(\\d+)H\", compound)\n",
    "    if compound == 'CH4':\n",
    "        digits = 1\n",
    "    elif matches == []:\n",
    "        digits = None\n",
    "    else:\n",
    "        digits = matches[0]\n",
    "    return digits"
   ]
  },
  {
   "cell_type": "code",
   "execution_count": null,
   "id": "53178736",
   "metadata": {},
   "outputs": [],
   "source": [
    "def adjusted_composition_and_molecular_weight_table(compound, composition):\n",
    "\n",
    "    # List to define the sorting order\n",
    "    sorting_order = list(adjusted_composition(compound, composition))\n",
    "\n",
    "    # Sort the DataFrame based on the sorting_order list\n",
    "    df_sorted = get_molecular_weight_list(compound).sort_values(by='Formula', key=lambda x: x.map({value: i for i, value in enumerate(sorting_order)})).reset_index(drop=True)\n",
    "\n",
    "    # Append adjusted composition to sorted dataFrame\n",
    "    df_sorted['Adjusted Composition'] = pd.Series(adjusted_composition(compound, composition).values())\n",
    "\n",
    "\n",
    "    # Append Carbon Ratio to the dataframe\n",
    "    df_sorted['Carbon Ratio'] = df_sorted['Formula'].apply(lambda formula: carbon_ratio(formula))\n",
    "    return df_sorted.fillna(0)"
   ]
  },
  {
   "cell_type": "code",
   "execution_count": null,
   "id": "8cfb04b7",
   "metadata": {},
   "outputs": [],
   "source": [
    "def carbon_content_mole_basis():\n",
    "    data_table = adjusted_composition_and_molecular_weight_table(compound, mole_fraction)\n",
    "    data_table['Mole Fraction'] = pd.Series(mole_fraction)\n",
    "    data_table = data_table.fillna(0)\n",
    "    mole_fraction_carbonratio = lambda row: row['Mole Fraction']*float(row['Carbon Ratio'])\n",
    "\n",
    "    data_table['Carbon Content'] = data_table.apply(mole_fraction_carbonratio, axis=1)\n",
    "\n",
    "    return data_table"
   ]
  },
  {
   "cell_type": "code",
   "execution_count": null,
   "id": "db7a132e",
   "metadata": {},
   "outputs": [],
   "source": [
    "def carbon_content_weight_basis():\n",
    "    data_table = adjusted_composition_and_molecular_weight_table(compound, weight_fraction)\n",
    "    data_table['Weight Fraction'] = pd.Series(weight_fraction)\n",
    "    data_table = data_table.fillna(0)\n",
    "    mole_fraction_carbonratio = lambda row: row['Adjusted Composition']*float(row['Carbon Ratio'])*12/row['Molecular Weight']\n",
    "\n",
    "    data_table['Carbon Content'] = data_table.apply(mole_fraction_carbonratio, axis=1)\n",
    "\n",
    "    return data_table"
   ]
  },
  {
   "cell_type": "code",
   "execution_count": null,
   "id": "22feffb8",
   "metadata": {},
   "outputs": [],
   "source": [
    "def carbon_content_fuel_mixture_mole_basis():\n",
    "    C_mixture = sum(carbon_content_mole_basis()['Carbon Content'])\n",
    "    return C_mixture"
   ]
  },
  {
   "cell_type": "code",
   "execution_count": null,
   "id": "683a3e94",
   "metadata": {},
   "outputs": [],
   "source": [
    "def carbon_content_fuel_mixture_weight_basis():\n",
    "    C_mixture = sum(carbon_content_weight_basis()['Carbon Content'])\n",
    "    return C_mixture"
   ]
  },
  {
   "cell_type": "code",
   "execution_count": null,
   "id": "a8169b79",
   "metadata": {},
   "outputs": [],
   "source": [
    "def mass_CO2_mole_composition_basis(compound, composition):\n",
    "    '''Mass of CO2 in the flared stream based on CO2 composition of the inlet stream'''\n",
    "    dictionary = dict(zip(compound, composition))\n",
    "    co2_composition = dictionary['CO2']\n",
    "    return co2_composition"
   ]
  },
  {
   "cell_type": "code",
   "execution_count": null,
   "id": "db74df0b",
   "metadata": {},
   "outputs": [],
   "source": [
    "def convert_scf_to_lbmole(volume_rate):\n",
    "    '''This function converts volumetric flowrate in scf/time to molar flowrate in lbmole/time\n",
    "    Molar volume of a gas at Standard temperature and pressure is given as:\n",
    "    1 lbmole gas = 379.3scf gas\n",
    "    \n",
    "    Arguments: volume_rate in scf/time  \n",
    "    '''\n",
    "    molar_flowrate = volume_rate*(1/MOLAR_VOLUME)\n",
    "    return molar_flowrate"
   ]
  },
  {
   "cell_type": "code",
   "execution_count": null,
   "id": "23cbac54",
   "metadata": {},
   "outputs": [],
   "source": [
    "def CO2_emissions_inlet_known_volume_mole_basis(HCin, FUEL_EFFICIENCY):\n",
    "    '''\n",
    "    This function calculates the Carbon dioxide emission rate in tonnes when the flare inlet data is known.\n",
    "    \n",
    "    Definition of variables:\n",
    "    HCin = Flare hydrocarbon inlet rate (to the flare) in SCF\n",
    "    CFhc = Carbon weight fraction in the inlet hydrocarbon\n",
    "    FE = Flare combustion efficiency\n",
    "    Mco2 = Mass of CO2 in flared stream based on CO2 composition of the inlet stream.\n",
    "    \n",
    "    CALCULATION STEPS:\n",
    "    '''\n",
    "    CO2_mass_emission_rate = convert_scf_to_lbmole(HCin)*(carbon_content_fuel_mixture_mole_basis()*FUEL_EFFICIENCY + mass_CO2_mole_composition_basis(compound, mole_fraction))*convert_lbmole_CO2_to_lbCO2()*convert_lb_to_tonnes()\n",
    "    return CO2_mass_emission_rate"
   ]
  },
  {
   "cell_type": "code",
   "execution_count": null,
   "id": "53f5ebf2",
   "metadata": {},
   "outputs": [],
   "source": [
    "def CO2_emissions_inlet_known_volume_mole_basis(HCin, FUEL_EFFICIENCY):\n",
    "    '''\n",
    "    This function calculates the Carbon dioxide emission rate in tonnes when the flare inlet data is known.\n",
    "    \n",
    "    Definition of variables:\n",
    "    HCin = Flare hydrocarbon inlet rate (to the flare) in SCF\n",
    "    CFhc = Carbon weight fraction in the inlet hydrocarbon\n",
    "    FE = Flare combustion efficiency\n",
    "    Mco2 = Mass of CO2 in flared stream based on CO2 composition of the inlet stream.\n",
    "    \n",
    "    CALCULATION STEPS:\n",
    "    '''\n",
    "    CO2_mass_emission_rate = convert_scf_to_lbmole(HCin)*(carbon_content_fuel_mixture_mole_basis()*FUEL_EFFICIENCY + mass_CO2_mole_composition_basis(compound, mole_fraction))*convert_lbmole_CO2_to_lbCO2()*convert_lb_to_tonnes()\n",
    "    return CO2_mass_emission_rate"
   ]
  },
  {
   "cell_type": "code",
   "execution_count": null,
   "id": "dcc2ab9a",
   "metadata": {},
   "outputs": [],
   "source": [
    "def CO2_emissions_inlet_known_mass_weight_fraction_basis(HCin, FUEL_EFFICIENCY):\n",
    "    '''\n",
    "    This function calculates the Carbon dioxide emission rate in tonnes when the flare inlet data is known.\n",
    "    \n",
    "    Definition of variables:\n",
    "    HCin = Flare hydrocarbon inlet rate (to the flare) in lb\n",
    "    FUEL_EFFICIENCY = Flare combustion efficiency\n",
    "    \n",
    "    CALCULATION STEPS:\n",
    "    '''\n",
    "    CO2_mass_emission_rate = HCin*(carbon_content_fuel_mixture_weight_basis()*FUEL_EFFICIENCY*44/12 + mass_CO2_mole_composition_basis(compound, weight_fraction))*convert_lb_to_tonnes()\n",
    "    return CO2_mass_emission_rate"
   ]
  },
  {
   "cell_type": "code",
   "execution_count": null,
   "id": "38275672",
   "metadata": {},
   "outputs": [],
   "source": [
    "def CO2_emissions_outlet_known_volume_mole_basis(HCout, FUEL_EFFICIENCY):\n",
    "    '''\n",
    "    This function calculates the Carbon dioxide emission rate in tonnes when the flare outlet data is known.\n",
    "    \n",
    "    Definition of variables:\n",
    "    HCout = Flare hydrocarbon outlet rate (to the flare) in SCF\n",
    "    FUEL_EFFICIENCY = Flare combustion efficiency\n",
    "    \n",
    "    CALCULATION STEPS:\n",
    "    '''\n",
    "    CO2_mass_emission_rate = convert_scf_to_lbmole(HCout)*(carbon_content_fuel_mixture_mole_basis()*(FUEL_EFFICIENCY/(1-FUEL_EFFICIENCY)) + mass_CO2_mole_composition_basis(compound, mole_fraction))*convert_lbmole_CO2_to_lbCO2()*convert_lb_to_tonnes()\n",
    "    return CO2_mass_emission_rate"
   ]
  },
  {
   "cell_type": "code",
   "execution_count": null,
   "id": "3defc61d",
   "metadata": {},
   "outputs": [],
   "source": [
    "def CO2_emissions_outlet_known_mass_weight_fraction_basis(HCout, FUEL_EFFICIENCY):\n",
    "    '''\n",
    "    This function calculates the Carbon dioxide emission rate in tonnes when the flare outlet data is known.\n",
    "    \n",
    "    Definition of variables:\n",
    "    HCout = Flare hydrocarbon outlet rate (to the flare) in lb\n",
    "    FUEL_EFFICIENCY = Flare combustion efficiency\n",
    "    \n",
    "    CALCULATION STEPS:\n",
    "    '''\n",
    "    CO2_mass_emission_rate = HCout*(carbon_content_fuel_mixture_weight_basis()*(FUEL_EFFICIENCY/(1-FUEL_EFFICIENCY))*44/12 + mass_CO2_mole_composition_basis(compound, weight_fraction))*convert_lb_to_tonnes()\n",
    "    return CO2_mass_emission_rate"
   ]
  },
  {
   "cell_type": "code",
   "execution_count": 7,
   "metadata": {},
   "outputs": [],
   "source": [
    "'''\n",
    "Pint is a Python package to define, operate and manipulate physical quantities: \n",
    "the product of a numerical value and a unit of measurement. \n",
    "It allows arithmetic operations between them and conversions from and to different units.\n",
    "\n",
    "Install pint using:\n",
    "conda install -c conda-forge pint\n",
    "or \n",
    "pip install pint\n",
    "'''\n",
    "import pint\n",
    "ureg = pint.UnitRegistry()\n",
    "Q_ = ureg.Quantity"
   ]
  },
  {
   "cell_type": "code",
   "execution_count": 8,
   "metadata": {},
   "outputs": [
    {
     "data": {
      "text/plain": [
       "3"
      ]
     },
     "execution_count": 8,
     "metadata": {},
     "output_type": "execute_result"
    }
   ],
   "source": [
    "sum([1,2])"
   ]
  },
  {
   "cell_type": "code",
   "execution_count": null,
   "metadata": {},
   "outputs": [],
   "source": []
  }
 ],
 "metadata": {
  "kernelspec": {
   "display_name": "Python 3",
   "language": "python",
   "name": "python3"
  },
  "language_info": {
   "codemirror_mode": {
    "name": "ipython",
    "version": 3
   },
   "file_extension": ".py",
   "mimetype": "text/x-python",
   "name": "python",
   "nbconvert_exporter": "python",
   "pygments_lexer": "ipython3",
   "version": "3.8.3"
  }
 },
 "nbformat": 4,
 "nbformat_minor": 5
}
